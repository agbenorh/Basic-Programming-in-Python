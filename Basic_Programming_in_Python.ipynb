{
  "nbformat": 4,
  "nbformat_minor": 0,
  "metadata": {
    "colab": {
      "name": "Basic Programming in Python.ipynb",
      "provenance": [],
      "collapsed_sections": []
    },
    "kernelspec": {
      "name": "python3",
      "display_name": "Python 3"
    }
  },
  "cells": [
    {
      "cell_type": "markdown",
      "metadata": {
        "id": "uacFrEaZfcfq"
      },
      "source": [
        "##### Q1. Write a program that prompts the user to enter a password then prints the length of the password.\n",
        "\n",
        "```\n",
        "Enter your password: hello\n",
        "Your password is 5 long.\n",
        "```\n",
        "\n",
        "\n"
      ]
    },
    {
      "cell_type": "code",
      "metadata": {
        "id": "avPyES14ftCt",
        "colab": {
          "base_uri": "https://localhost:8080/"
        },
        "outputId": "ab4d9cda-e42f-4185-d696-ac4397ff6458"
      },
      "source": [
        "password = input(\"Enter your password: \")\n",
        "print(\"Your password is\", len(password), \"characters long.\")"
      ],
      "execution_count": null,
      "outputs": [
        {
          "output_type": "stream",
          "text": [
            "Enter your password: hello\n",
            "Your password is 5 characters long.\n"
          ],
          "name": "stdout"
        }
      ]
    },
    {
      "cell_type": "markdown",
      "metadata": {
        "id": "ekh-kABuItli"
      },
      "source": [
        ""
      ]
    },
    {
      "cell_type": "markdown",
      "metadata": {
        "id": "K1yko-xUItU3"
      },
      "source": [
        ""
      ]
    },
    {
      "cell_type": "markdown",
      "metadata": {
        "id": "behD0j_Of2TW"
      },
      "source": [
        "##### Q2. Write a program that prompts the user to enter their full name then prints the number of characters in their name (do not count spaces).\n",
        "\n",
        "```\n",
        "What is your name? Amulya Katti\n",
        "Amulya Katti your name has 11 characters.\n",
        "```"
      ]
    },
    {
      "cell_type": "code",
      "metadata": {
        "id": "XSdIRjwlhSlu",
        "colab": {
          "base_uri": "https://localhost:8080/"
        },
        "outputId": "49951c1c-6f81-4a19-8b94-53c40b844402"
      },
      "source": [
        "name = input(\"What is your name? \")\n",
        "print(name, \"your name has\", (len(name)-name.count(\" \")), \"characters.\")"
      ],
      "execution_count": null,
      "outputs": [
        {
          "output_type": "stream",
          "text": [
            "What is your name? Stephanie Agbenorhevi\n",
            "Stephanie Agbenorhevi your name has 20 characters.\n"
          ],
          "name": "stdout"
        }
      ]
    },
    {
      "cell_type": "markdown",
      "metadata": {
        "id": "5KHOWF6FhVHV"
      },
      "source": [
        "##### Q3. Write a program that prompts the user to enter a month (as a number), then prints the name of the month and the number of days in that month. Ensure that the user inputs a valid month and handle any error cases.\n",
        "\n",
        "```\n",
        "Enter the month number: 9\n",
        "September has 30 days\n",
        "```"
      ]
    },
    {
      "cell_type": "code",
      "metadata": {
        "id": "KhS-SAEThyTG",
        "colab": {
          "base_uri": "https://localhost:8080/"
        },
        "outputId": "07bfd2ee-c077-4d9a-97b1-d45eb149d97a"
      },
      "source": [
        "\n",
        "cont = True\n",
        "while cont == True:\n",
        "  month = input(\"Enter the month number: \")\n",
        "  if month == \"1\":\n",
        "    print(\"January has 31 days\")\n",
        "    cont = False\n",
        "  elif month == \"2\":\n",
        "    print(\"February has 28 days\")\n",
        "    cont = False\n",
        "  elif month == \"3\":\n",
        "    print(\"March has 31 days\")\n",
        "    cont = False\n",
        "  elif month == \"4\":\n",
        "    print(\"April has 30 days\")\n",
        "    cont = False\n",
        "  elif month == \"5\":\n",
        "    print(\"May has 31 days\")\n",
        "    cont = False\n",
        "  elif month == \"6\":\n",
        "    print(\"June has 30 days\")\n",
        "    cont = False\n",
        "  elif month == \"7\":\n",
        "    print(\"July has 31 days\")\n",
        "    cont = False\n",
        "  elif month == \"8\":\n",
        "    print(\"August has 31 days\")\n",
        "    cont = False\n",
        "  elif month == \"9\":\n",
        "    print(\"September has 30 days\")\n",
        "    cont = False\n",
        "  elif month == \"10\":\n",
        "    print(\"October has 31 days\")\n",
        "    cont = False\n",
        "  elif month == \"11\":\n",
        "    print(\"November has 30 days\")\n",
        "    cont = False\n",
        "  elif month == \"12\":\n",
        "    print(\"December has 31 days\")\n",
        "    cont = False\n",
        "  else:\n",
        "    print(\"Invalid entry.\")\n",
        "    cont = True"
      ],
      "execution_count": null,
      "outputs": [
        {
          "output_type": "stream",
          "text": [
            "Enter the month number: 20\n",
            "Invalid entry.\n",
            "Enter the month number: 7\n",
            "July has 31 days\n"
          ],
          "name": "stdout"
        }
      ]
    },
    {
      "cell_type": "markdown",
      "metadata": {
        "id": "O7lnAdGlh6Xa"
      },
      "source": [
        "##### Q4. Write a program that prompts the user to enter a loan amount, annual interest rate, and number of years  for a car loan. Then calculate and print the monthly payment amount.\n",
        "\n",
        "Note:\n",
        "```\n",
        "PMT= [PV*i*((1+i)^n)]/[((1+i)^n)-1]\n",
        "```\n",
        "PMT is the monthly payment\n",
        "\n",
        "PV is the loan amount\n",
        "\n",
        "i is the interest rate per month in decimal form (interest rate percentage divided by 12)\n",
        "\n",
        "n is the number of months (term of the loan in months)\n",
        "\n",
        "```\n",
        "Loan Amount: 30000.00\n",
        "Annual Interest Rate: 4.00\n",
        "Years: 5\n",
        "Your monthly payment is: $552.50\n",
        "```"
      ]
    },
    {
      "cell_type": "code",
      "metadata": {
        "id": "p4B5JH5GiTs9",
        "colab": {
          "base_uri": "https://localhost:8080/"
        },
        "outputId": "be16acd6-c8c6-41c9-f022-0545101aaa20"
      },
      "source": [
        "pv = float(input(\"Enter a loan amount:\" ))\n",
        "i = float(input(\"Enter the interest rate: \"))\n",
        "n = int(input(\"Enter the number of years: \"))\n",
        "months = n * 12\n",
        "interest = i / 100\n",
        "newInterest = interest / 12\n",
        "pmt = (pv*newInterest*((1+newInterest)**months))/(((1+newInterest)**months)-1)\n",
        "pmt = str(round(pmt, 2))\n",
        "print(\"\\n\")\n",
        "print(\"Loan Amount:\", pv)\n",
        "print(\"Annual Interest Rate:\", i)\n",
        "print(\"Years:\", n)\n",
        "print(\"Your monthly payment is: $\" + pmt)\n",
        "\n"
      ],
      "execution_count": null,
      "outputs": [
        {
          "output_type": "stream",
          "text": [
            "Enter a loan amount:30000\n",
            "Enter the interest rate: 4.00\n",
            "Enter the number of years: 5\n",
            "\n",
            "\n",
            "Loan Amount: 30000.0\n",
            "Annual Interest Rate: 4.0\n",
            "Years: 5\n",
            "Your monthly payment is: $552.5\n"
          ],
          "name": "stdout"
        }
      ]
    },
    {
      "cell_type": "markdown",
      "metadata": {
        "id": "SjiolJKgiWV-"
      },
      "source": [
        "##### Q5. Write a program to that prompts the user to enter a string. Then check whether or not the string is a palindrome.\n",
        "\n",
        "```\n",
        "Enter a string: Madam\n",
        "Madam, is a palindrome!\n",
        "```"
      ]
    },
    {
      "cell_type": "code",
      "metadata": {
        "id": "F5_M934Ri0es",
        "colab": {
          "base_uri": "https://localhost:8080/"
        },
        "outputId": "dabd5406-8565-4ea1-ec13-f3f0294ce570"
      },
      "source": [
        "string = input(\"Enter a string: \")\n",
        "stringReverse = string[::-1]\n",
        "if string == stringReverse:\n",
        "  print(string, \"is a palindrome!\")\n",
        "else:\n",
        "  print(string, \"is not a palindrome.\")"
      ],
      "execution_count": null,
      "outputs": [
        {
          "output_type": "stream",
          "text": [
            "Enter a string: mom\n",
            "mom is a palindrome!\n"
          ],
          "name": "stdout"
        }
      ]
    },
    {
      "cell_type": "markdown",
      "metadata": {
        "id": "BLBD6n9vkJEu"
      },
      "source": [
        "##### Q6. Write a program to compute and print all possible combinations of change for \\$1. Denominations to be considered – quarter, dime, nickel, penny.\n",
        "\n",
        "Hint: Use nested loops (loops within loops for the various denominations of coins)\n",
        "\n",
        "```\n",
        "Change for $1:\n",
        "0 quarters, 0 dimes, 0 nickels, 100 pennies\n",
        "…\n",
        "4 quarters, 0 dimes, 0 nickels, 0 pennies\n",
        "```"
      ]
    },
    {
      "cell_type": "code",
      "metadata": {
        "id": "kAQsTjwDkZZ5",
        "colab": {
          "base_uri": "https://localhost:8080/"
        },
        "outputId": "27043c2f-5462-4aca-95f0-b4bca2dcdb85"
      },
      "source": [
        "print(\"Change for $1\")\n",
        "\n",
        "for quarter in range(5):\n",
        "    for dime in range(11):\n",
        "        for nickel in range(21):\n",
        "            for penny in range(0,101,5):\n",
        "                if (quarter*25 + dime*10 + nickel*5 + penny) == 100:\n",
        "                    print(quarter, \"quarters,\",dime, \"dimes,\",nickel, \"nickels,\", penny, \"pennies\")"
      ],
      "execution_count": 1,
      "outputs": [
        {
          "output_type": "stream",
          "text": [
            "Change for $1\n",
            "0 quarters, 0 dimes, 0 nickels, 100 pennies\n",
            "0 quarters, 0 dimes, 1 nickels, 95 pennies\n",
            "0 quarters, 0 dimes, 2 nickels, 90 pennies\n",
            "0 quarters, 0 dimes, 3 nickels, 85 pennies\n",
            "0 quarters, 0 dimes, 4 nickels, 80 pennies\n",
            "0 quarters, 0 dimes, 5 nickels, 75 pennies\n",
            "0 quarters, 0 dimes, 6 nickels, 70 pennies\n",
            "0 quarters, 0 dimes, 7 nickels, 65 pennies\n",
            "0 quarters, 0 dimes, 8 nickels, 60 pennies\n",
            "0 quarters, 0 dimes, 9 nickels, 55 pennies\n",
            "0 quarters, 0 dimes, 10 nickels, 50 pennies\n",
            "0 quarters, 0 dimes, 11 nickels, 45 pennies\n",
            "0 quarters, 0 dimes, 12 nickels, 40 pennies\n",
            "0 quarters, 0 dimes, 13 nickels, 35 pennies\n",
            "0 quarters, 0 dimes, 14 nickels, 30 pennies\n",
            "0 quarters, 0 dimes, 15 nickels, 25 pennies\n",
            "0 quarters, 0 dimes, 16 nickels, 20 pennies\n",
            "0 quarters, 0 dimes, 17 nickels, 15 pennies\n",
            "0 quarters, 0 dimes, 18 nickels, 10 pennies\n",
            "0 quarters, 0 dimes, 19 nickels, 5 pennies\n",
            "0 quarters, 0 dimes, 20 nickels, 0 pennies\n",
            "0 quarters, 1 dimes, 0 nickels, 90 pennies\n",
            "0 quarters, 1 dimes, 1 nickels, 85 pennies\n",
            "0 quarters, 1 dimes, 2 nickels, 80 pennies\n",
            "0 quarters, 1 dimes, 3 nickels, 75 pennies\n",
            "0 quarters, 1 dimes, 4 nickels, 70 pennies\n",
            "0 quarters, 1 dimes, 5 nickels, 65 pennies\n",
            "0 quarters, 1 dimes, 6 nickels, 60 pennies\n",
            "0 quarters, 1 dimes, 7 nickels, 55 pennies\n",
            "0 quarters, 1 dimes, 8 nickels, 50 pennies\n",
            "0 quarters, 1 dimes, 9 nickels, 45 pennies\n",
            "0 quarters, 1 dimes, 10 nickels, 40 pennies\n",
            "0 quarters, 1 dimes, 11 nickels, 35 pennies\n",
            "0 quarters, 1 dimes, 12 nickels, 30 pennies\n",
            "0 quarters, 1 dimes, 13 nickels, 25 pennies\n",
            "0 quarters, 1 dimes, 14 nickels, 20 pennies\n",
            "0 quarters, 1 dimes, 15 nickels, 15 pennies\n",
            "0 quarters, 1 dimes, 16 nickels, 10 pennies\n",
            "0 quarters, 1 dimes, 17 nickels, 5 pennies\n",
            "0 quarters, 1 dimes, 18 nickels, 0 pennies\n",
            "0 quarters, 2 dimes, 0 nickels, 80 pennies\n",
            "0 quarters, 2 dimes, 1 nickels, 75 pennies\n",
            "0 quarters, 2 dimes, 2 nickels, 70 pennies\n",
            "0 quarters, 2 dimes, 3 nickels, 65 pennies\n",
            "0 quarters, 2 dimes, 4 nickels, 60 pennies\n",
            "0 quarters, 2 dimes, 5 nickels, 55 pennies\n",
            "0 quarters, 2 dimes, 6 nickels, 50 pennies\n",
            "0 quarters, 2 dimes, 7 nickels, 45 pennies\n",
            "0 quarters, 2 dimes, 8 nickels, 40 pennies\n",
            "0 quarters, 2 dimes, 9 nickels, 35 pennies\n",
            "0 quarters, 2 dimes, 10 nickels, 30 pennies\n",
            "0 quarters, 2 dimes, 11 nickels, 25 pennies\n",
            "0 quarters, 2 dimes, 12 nickels, 20 pennies\n",
            "0 quarters, 2 dimes, 13 nickels, 15 pennies\n",
            "0 quarters, 2 dimes, 14 nickels, 10 pennies\n",
            "0 quarters, 2 dimes, 15 nickels, 5 pennies\n",
            "0 quarters, 2 dimes, 16 nickels, 0 pennies\n",
            "0 quarters, 3 dimes, 0 nickels, 70 pennies\n",
            "0 quarters, 3 dimes, 1 nickels, 65 pennies\n",
            "0 quarters, 3 dimes, 2 nickels, 60 pennies\n",
            "0 quarters, 3 dimes, 3 nickels, 55 pennies\n",
            "0 quarters, 3 dimes, 4 nickels, 50 pennies\n",
            "0 quarters, 3 dimes, 5 nickels, 45 pennies\n",
            "0 quarters, 3 dimes, 6 nickels, 40 pennies\n",
            "0 quarters, 3 dimes, 7 nickels, 35 pennies\n",
            "0 quarters, 3 dimes, 8 nickels, 30 pennies\n",
            "0 quarters, 3 dimes, 9 nickels, 25 pennies\n",
            "0 quarters, 3 dimes, 10 nickels, 20 pennies\n",
            "0 quarters, 3 dimes, 11 nickels, 15 pennies\n",
            "0 quarters, 3 dimes, 12 nickels, 10 pennies\n",
            "0 quarters, 3 dimes, 13 nickels, 5 pennies\n",
            "0 quarters, 3 dimes, 14 nickels, 0 pennies\n",
            "0 quarters, 4 dimes, 0 nickels, 60 pennies\n",
            "0 quarters, 4 dimes, 1 nickels, 55 pennies\n",
            "0 quarters, 4 dimes, 2 nickels, 50 pennies\n",
            "0 quarters, 4 dimes, 3 nickels, 45 pennies\n",
            "0 quarters, 4 dimes, 4 nickels, 40 pennies\n",
            "0 quarters, 4 dimes, 5 nickels, 35 pennies\n",
            "0 quarters, 4 dimes, 6 nickels, 30 pennies\n",
            "0 quarters, 4 dimes, 7 nickels, 25 pennies\n",
            "0 quarters, 4 dimes, 8 nickels, 20 pennies\n",
            "0 quarters, 4 dimes, 9 nickels, 15 pennies\n",
            "0 quarters, 4 dimes, 10 nickels, 10 pennies\n",
            "0 quarters, 4 dimes, 11 nickels, 5 pennies\n",
            "0 quarters, 4 dimes, 12 nickels, 0 pennies\n",
            "0 quarters, 5 dimes, 0 nickels, 50 pennies\n",
            "0 quarters, 5 dimes, 1 nickels, 45 pennies\n",
            "0 quarters, 5 dimes, 2 nickels, 40 pennies\n",
            "0 quarters, 5 dimes, 3 nickels, 35 pennies\n",
            "0 quarters, 5 dimes, 4 nickels, 30 pennies\n",
            "0 quarters, 5 dimes, 5 nickels, 25 pennies\n",
            "0 quarters, 5 dimes, 6 nickels, 20 pennies\n",
            "0 quarters, 5 dimes, 7 nickels, 15 pennies\n",
            "0 quarters, 5 dimes, 8 nickels, 10 pennies\n",
            "0 quarters, 5 dimes, 9 nickels, 5 pennies\n",
            "0 quarters, 5 dimes, 10 nickels, 0 pennies\n",
            "0 quarters, 6 dimes, 0 nickels, 40 pennies\n",
            "0 quarters, 6 dimes, 1 nickels, 35 pennies\n",
            "0 quarters, 6 dimes, 2 nickels, 30 pennies\n",
            "0 quarters, 6 dimes, 3 nickels, 25 pennies\n",
            "0 quarters, 6 dimes, 4 nickels, 20 pennies\n",
            "0 quarters, 6 dimes, 5 nickels, 15 pennies\n",
            "0 quarters, 6 dimes, 6 nickels, 10 pennies\n",
            "0 quarters, 6 dimes, 7 nickels, 5 pennies\n",
            "0 quarters, 6 dimes, 8 nickels, 0 pennies\n",
            "0 quarters, 7 dimes, 0 nickels, 30 pennies\n",
            "0 quarters, 7 dimes, 1 nickels, 25 pennies\n",
            "0 quarters, 7 dimes, 2 nickels, 20 pennies\n",
            "0 quarters, 7 dimes, 3 nickels, 15 pennies\n",
            "0 quarters, 7 dimes, 4 nickels, 10 pennies\n",
            "0 quarters, 7 dimes, 5 nickels, 5 pennies\n",
            "0 quarters, 7 dimes, 6 nickels, 0 pennies\n",
            "0 quarters, 8 dimes, 0 nickels, 20 pennies\n",
            "0 quarters, 8 dimes, 1 nickels, 15 pennies\n",
            "0 quarters, 8 dimes, 2 nickels, 10 pennies\n",
            "0 quarters, 8 dimes, 3 nickels, 5 pennies\n",
            "0 quarters, 8 dimes, 4 nickels, 0 pennies\n",
            "0 quarters, 9 dimes, 0 nickels, 10 pennies\n",
            "0 quarters, 9 dimes, 1 nickels, 5 pennies\n",
            "0 quarters, 9 dimes, 2 nickels, 0 pennies\n",
            "0 quarters, 10 dimes, 0 nickels, 0 pennies\n",
            "1 quarters, 0 dimes, 0 nickels, 75 pennies\n",
            "1 quarters, 0 dimes, 1 nickels, 70 pennies\n",
            "1 quarters, 0 dimes, 2 nickels, 65 pennies\n",
            "1 quarters, 0 dimes, 3 nickels, 60 pennies\n",
            "1 quarters, 0 dimes, 4 nickels, 55 pennies\n",
            "1 quarters, 0 dimes, 5 nickels, 50 pennies\n",
            "1 quarters, 0 dimes, 6 nickels, 45 pennies\n",
            "1 quarters, 0 dimes, 7 nickels, 40 pennies\n",
            "1 quarters, 0 dimes, 8 nickels, 35 pennies\n",
            "1 quarters, 0 dimes, 9 nickels, 30 pennies\n",
            "1 quarters, 0 dimes, 10 nickels, 25 pennies\n",
            "1 quarters, 0 dimes, 11 nickels, 20 pennies\n",
            "1 quarters, 0 dimes, 12 nickels, 15 pennies\n",
            "1 quarters, 0 dimes, 13 nickels, 10 pennies\n",
            "1 quarters, 0 dimes, 14 nickels, 5 pennies\n",
            "1 quarters, 0 dimes, 15 nickels, 0 pennies\n",
            "1 quarters, 1 dimes, 0 nickels, 65 pennies\n",
            "1 quarters, 1 dimes, 1 nickels, 60 pennies\n",
            "1 quarters, 1 dimes, 2 nickels, 55 pennies\n",
            "1 quarters, 1 dimes, 3 nickels, 50 pennies\n",
            "1 quarters, 1 dimes, 4 nickels, 45 pennies\n",
            "1 quarters, 1 dimes, 5 nickels, 40 pennies\n",
            "1 quarters, 1 dimes, 6 nickels, 35 pennies\n",
            "1 quarters, 1 dimes, 7 nickels, 30 pennies\n",
            "1 quarters, 1 dimes, 8 nickels, 25 pennies\n",
            "1 quarters, 1 dimes, 9 nickels, 20 pennies\n",
            "1 quarters, 1 dimes, 10 nickels, 15 pennies\n",
            "1 quarters, 1 dimes, 11 nickels, 10 pennies\n",
            "1 quarters, 1 dimes, 12 nickels, 5 pennies\n",
            "1 quarters, 1 dimes, 13 nickels, 0 pennies\n",
            "1 quarters, 2 dimes, 0 nickels, 55 pennies\n",
            "1 quarters, 2 dimes, 1 nickels, 50 pennies\n",
            "1 quarters, 2 dimes, 2 nickels, 45 pennies\n",
            "1 quarters, 2 dimes, 3 nickels, 40 pennies\n",
            "1 quarters, 2 dimes, 4 nickels, 35 pennies\n",
            "1 quarters, 2 dimes, 5 nickels, 30 pennies\n",
            "1 quarters, 2 dimes, 6 nickels, 25 pennies\n",
            "1 quarters, 2 dimes, 7 nickels, 20 pennies\n",
            "1 quarters, 2 dimes, 8 nickels, 15 pennies\n",
            "1 quarters, 2 dimes, 9 nickels, 10 pennies\n",
            "1 quarters, 2 dimes, 10 nickels, 5 pennies\n",
            "1 quarters, 2 dimes, 11 nickels, 0 pennies\n",
            "1 quarters, 3 dimes, 0 nickels, 45 pennies\n",
            "1 quarters, 3 dimes, 1 nickels, 40 pennies\n",
            "1 quarters, 3 dimes, 2 nickels, 35 pennies\n",
            "1 quarters, 3 dimes, 3 nickels, 30 pennies\n",
            "1 quarters, 3 dimes, 4 nickels, 25 pennies\n",
            "1 quarters, 3 dimes, 5 nickels, 20 pennies\n",
            "1 quarters, 3 dimes, 6 nickels, 15 pennies\n",
            "1 quarters, 3 dimes, 7 nickels, 10 pennies\n",
            "1 quarters, 3 dimes, 8 nickels, 5 pennies\n",
            "1 quarters, 3 dimes, 9 nickels, 0 pennies\n",
            "1 quarters, 4 dimes, 0 nickels, 35 pennies\n",
            "1 quarters, 4 dimes, 1 nickels, 30 pennies\n",
            "1 quarters, 4 dimes, 2 nickels, 25 pennies\n",
            "1 quarters, 4 dimes, 3 nickels, 20 pennies\n",
            "1 quarters, 4 dimes, 4 nickels, 15 pennies\n",
            "1 quarters, 4 dimes, 5 nickels, 10 pennies\n",
            "1 quarters, 4 dimes, 6 nickels, 5 pennies\n",
            "1 quarters, 4 dimes, 7 nickels, 0 pennies\n",
            "1 quarters, 5 dimes, 0 nickels, 25 pennies\n",
            "1 quarters, 5 dimes, 1 nickels, 20 pennies\n",
            "1 quarters, 5 dimes, 2 nickels, 15 pennies\n",
            "1 quarters, 5 dimes, 3 nickels, 10 pennies\n",
            "1 quarters, 5 dimes, 4 nickels, 5 pennies\n",
            "1 quarters, 5 dimes, 5 nickels, 0 pennies\n",
            "1 quarters, 6 dimes, 0 nickels, 15 pennies\n",
            "1 quarters, 6 dimes, 1 nickels, 10 pennies\n",
            "1 quarters, 6 dimes, 2 nickels, 5 pennies\n",
            "1 quarters, 6 dimes, 3 nickels, 0 pennies\n",
            "1 quarters, 7 dimes, 0 nickels, 5 pennies\n",
            "1 quarters, 7 dimes, 1 nickels, 0 pennies\n",
            "2 quarters, 0 dimes, 0 nickels, 50 pennies\n",
            "2 quarters, 0 dimes, 1 nickels, 45 pennies\n",
            "2 quarters, 0 dimes, 2 nickels, 40 pennies\n",
            "2 quarters, 0 dimes, 3 nickels, 35 pennies\n",
            "2 quarters, 0 dimes, 4 nickels, 30 pennies\n",
            "2 quarters, 0 dimes, 5 nickels, 25 pennies\n",
            "2 quarters, 0 dimes, 6 nickels, 20 pennies\n",
            "2 quarters, 0 dimes, 7 nickels, 15 pennies\n",
            "2 quarters, 0 dimes, 8 nickels, 10 pennies\n",
            "2 quarters, 0 dimes, 9 nickels, 5 pennies\n",
            "2 quarters, 0 dimes, 10 nickels, 0 pennies\n",
            "2 quarters, 1 dimes, 0 nickels, 40 pennies\n",
            "2 quarters, 1 dimes, 1 nickels, 35 pennies\n",
            "2 quarters, 1 dimes, 2 nickels, 30 pennies\n",
            "2 quarters, 1 dimes, 3 nickels, 25 pennies\n",
            "2 quarters, 1 dimes, 4 nickels, 20 pennies\n",
            "2 quarters, 1 dimes, 5 nickels, 15 pennies\n",
            "2 quarters, 1 dimes, 6 nickels, 10 pennies\n",
            "2 quarters, 1 dimes, 7 nickels, 5 pennies\n",
            "2 quarters, 1 dimes, 8 nickels, 0 pennies\n",
            "2 quarters, 2 dimes, 0 nickels, 30 pennies\n",
            "2 quarters, 2 dimes, 1 nickels, 25 pennies\n",
            "2 quarters, 2 dimes, 2 nickels, 20 pennies\n",
            "2 quarters, 2 dimes, 3 nickels, 15 pennies\n",
            "2 quarters, 2 dimes, 4 nickels, 10 pennies\n",
            "2 quarters, 2 dimes, 5 nickels, 5 pennies\n",
            "2 quarters, 2 dimes, 6 nickels, 0 pennies\n",
            "2 quarters, 3 dimes, 0 nickels, 20 pennies\n",
            "2 quarters, 3 dimes, 1 nickels, 15 pennies\n",
            "2 quarters, 3 dimes, 2 nickels, 10 pennies\n",
            "2 quarters, 3 dimes, 3 nickels, 5 pennies\n",
            "2 quarters, 3 dimes, 4 nickels, 0 pennies\n",
            "2 quarters, 4 dimes, 0 nickels, 10 pennies\n",
            "2 quarters, 4 dimes, 1 nickels, 5 pennies\n",
            "2 quarters, 4 dimes, 2 nickels, 0 pennies\n",
            "2 quarters, 5 dimes, 0 nickels, 0 pennies\n",
            "3 quarters, 0 dimes, 0 nickels, 25 pennies\n",
            "3 quarters, 0 dimes, 1 nickels, 20 pennies\n",
            "3 quarters, 0 dimes, 2 nickels, 15 pennies\n",
            "3 quarters, 0 dimes, 3 nickels, 10 pennies\n",
            "3 quarters, 0 dimes, 4 nickels, 5 pennies\n",
            "3 quarters, 0 dimes, 5 nickels, 0 pennies\n",
            "3 quarters, 1 dimes, 0 nickels, 15 pennies\n",
            "3 quarters, 1 dimes, 1 nickels, 10 pennies\n",
            "3 quarters, 1 dimes, 2 nickels, 5 pennies\n",
            "3 quarters, 1 dimes, 3 nickels, 0 pennies\n",
            "3 quarters, 2 dimes, 0 nickels, 5 pennies\n",
            "3 quarters, 2 dimes, 1 nickels, 0 pennies\n",
            "4 quarters, 0 dimes, 0 nickels, 0 pennies\n"
          ],
          "name": "stdout"
        }
      ]
    },
    {
      "cell_type": "markdown",
      "metadata": {
        "id": "rUPDjYiIkbgs"
      },
      "source": [
        "##### Q7. Ask the user to enter two positive integers between 1 and 100. Read those integers. Then output a multiplication table of the first number times the second number. \n",
        "\n",
        "Note: You have to ensure the entered numbers are between 1 and 100 only.\n",
        "\n",
        "```\n",
        "Please enter an integer: 5\n",
        "Please enter another integer: 20\n",
        "5 x 1 = 5\n",
        "5 x 2 = 10\n",
        "5 x 3 = 15\n",
        "…\n",
        "5 x 20 = 100\n",
        "```"
      ]
    },
    {
      "cell_type": "code",
      "metadata": {
        "id": "Qg0Orv1klHzA",
        "colab": {
          "base_uri": "https://localhost:8080/"
        },
        "outputId": "0a2979f5-a8dc-46f3-963e-f44bb8dea22c"
      },
      "source": [
        "cont = True\n",
        "while cont == True:\n",
        "  int1 = int(input(\"Please enter a positive integer between 1 and 100:\"))\n",
        "  if int1 <=0 or int1 >100:\n",
        "    print(\"Invalid entry.\")\n",
        "    cont = True\n",
        "  elif int1 >0 and int1 <=100:\n",
        "    cont = False\n",
        "\n",
        "cont2 = True\n",
        "while cont2 == True:\n",
        "  int2 = int(input(\"Please enter another positive integer between 1 and 100:\"))\n",
        "  if int2 <0 or int2 >100:\n",
        "    print(\"Invalid entry.\")\n",
        "    cont2 = True\n",
        "  elif int2 >0 and int2 <=100:\n",
        "    cont2 = False\n",
        "\n",
        "\n",
        "for i in range(1,int2+1):\n",
        "  print(int1, \"x\", i, \"=\", int1*i)"
      ],
      "execution_count": null,
      "outputs": [
        {
          "output_type": "stream",
          "text": [
            "Please enter a positive integer between 1 and 100:0\n",
            "Invalid entry.\n",
            "Please enter a positive integer between 1 and 100:3\n",
            "Please enter another positive integer between 1 and 100:-2\n",
            "Invalid entry.\n",
            "Please enter another positive integer between 1 and 100:5\n",
            "3 x 1 = 3\n",
            "3 x 2 = 6\n",
            "3 x 3 = 9\n",
            "3 x 4 = 12\n",
            "3 x 5 = 15\n"
          ],
          "name": "stdout"
        }
      ]
    },
    {
      "cell_type": "markdown",
      "metadata": {
        "id": "SbnbPUPTlLD9"
      },
      "source": [
        "##### Q8. Write a program to ask the user to enter a password. Then check to see if it is a valid password based on these requirements -\n",
        "\n",
        "Must be at least 8 characters long\n",
        "\n",
        "Must contain both uppercase and lowercase letters\n",
        "\n",
        "Must contain at least one number between 0-9\n",
        "\n",
        "Must contain a special character -!,@,#,$\n",
        "\n",
        "If the password is not valid, ask the user to re-enter. This should continue until the user enters a valid password. After a valid password is entered, print Access Granted!\n",
        "\n",
        "```\n",
        "Please enter a password. Follow these requirements - \n",
        "a. Must be at least 8 characters long\n",
        "b. Must contain both uppercase and lowercase letters\n",
        "c. Must contain at least one number between 0-9\n",
        "d. Must contain a special character -!,@,#,$\n",
        "Password: HelloWorld1\n",
        "Invalid password. Try again!\n",
        "Password: Hello@World1\n",
        "Access Granted!\n",
        "```\n"
      ]
    },
    {
      "cell_type": "code",
      "metadata": {
        "id": "OXmZ177Rl-RV",
        "colab": {
          "base_uri": "https://localhost:8080/"
        },
        "outputId": "7ac03660-6a39-4e93-b9ef-6b6c160a4637"
      },
      "source": [
        "\n",
        "\n",
        "special = ['!','@','#','$']\n",
        "uppercase = ['A','B','C','D','E','F','G','H','I','J','K','L','M','N','O','P','Q','R','S','T','U','V','W','X','Y','Z']\n",
        "lowercase = ['a','b','c','d','e','f','g','h','i','j','k','l','m','n','o','p','q','r','s','t','u','v','w','x','y','z']\n",
        "number = ['0','1','2','3','4','5','6','7','8','9']\n",
        "cont = True\n",
        "while cont == True:\n",
        "  password = input(\"Please enter a password. Follow these requirements - \\n a. Must be at least 8 characters long \\n b. Must contain both uppercase and lowercase letters \\n c. Must contain at least one number between 0-9 \\n d. Must contain a special character - !,@,#,$ \\n\")\n",
        "  print(\"Password:\", password)\n",
        "  if len(password) <8:\n",
        "    print(\"Invalid password. Try again!\")\n",
        "    cont = True\n",
        "  elif not any(char in special for char in password):\n",
        "    print(\"Invalid password. Try again!\")\n",
        "    cont = True\n",
        "  elif not any(char in uppercase for char in password):\n",
        "    print(\"Invalid password. Try again!\")\n",
        "    cont = True\n",
        "  elif not any(char in lowercase for char in password):\n",
        "    print(\"Invalid password. Try again!\")\n",
        "    cont = True\n",
        "  elif not any(char in number for char in password):\n",
        "    print(\"Invalid password. Try again!\")\n",
        "    cont = True\n",
        "  else:\n",
        "    print(\"Access Granted!\")\n",
        "    cont = False\n",
        "  \n",
        "\n"
      ],
      "execution_count": null,
      "outputs": [
        {
          "output_type": "stream",
          "text": [
            "Please enter a password. Follow these requirements - \n",
            " a. Must be at least 8 characters long \n",
            " b. Must contain both uppercase and lowercase letters \n",
            " c. Must contain at least one number between 0-9 \n",
            " d. Must contain a special character - !,@,#,$ \n",
            "USCtrojan5!\n",
            "Password: USCtrojan5!\n",
            "Access Granted!\n"
          ],
          "name": "stdout"
        }
      ]
    },
    {
      "cell_type": "markdown",
      "metadata": {
        "id": "-0sdutTDnTKA"
      },
      "source": [
        "##### Q9. Given the score sheet of participants in a competition, you are required to find the runner-up score. You are given scores in a list. Find the score of the runner-up.\n",
        "\n",
        "```\n",
        "list1 - [2, 3, 6, 6, 5]\n",
        "runner_up - 5\n",
        "\n",
        "list2 - [1, 7, 5, 3, 10, 4, 5, 5, 6, 11]\n",
        "runner_up - 10\n",
        "```"
      ]
    },
    {
      "cell_type": "code",
      "metadata": {
        "id": "12YP9OaqpGRK",
        "colab": {
          "base_uri": "https://localhost:8080/"
        },
        "outputId": "35c706ca-b222-4ebe-fda4-134bafb22067"
      },
      "source": [
        "list1 = [2,3,6,6,5]\n",
        "newList1 = set(list1)\n",
        "newList1.remove(max(newList1))\n",
        "print(\"Runner up -\", max(newList1))\n",
        "\n",
        "print(\"\\n\")\n",
        "\n",
        "list2 = [1,7,5,3,10,4,5,5,6,11]\n",
        "list2.sort()\n",
        "print(\"Runner up -\", list2[-2])"
      ],
      "execution_count": null,
      "outputs": [
        {
          "output_type": "stream",
          "text": [
            "Runner up - 5\n",
            "\n",
            "\n",
            "Runner up - 10\n"
          ],
          "name": "stdout"
        }
      ]
    }
  ]
}